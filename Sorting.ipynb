{
  "nbformat": 4,
  "nbformat_minor": 0,
  "metadata": {
    "colab": {
      "provenance": []
    },
    "kernelspec": {
      "name": "python3",
      "display_name": "Python 3"
    },
    "language_info": {
      "name": "python"
    }
  },
  "cells": [
    {
      "cell_type": "markdown",
      "source": [
        "#Problem 1.Given an array of n numbers, give an algorithm which gives the element appearing maximum number of times?\n",
        "Algorithm\n",
        "Initialize a Frequency Counter:\n",
        "\n",
        "Use a dictionary or hash map to store the frequency of each element.\n",
        "Count Frequencies:\n",
        "\n",
        "Iterate through the array and update the frequency counter for each element.\n",
        "Find the Maximum Frequency:\n",
        "\n",
        "Traverse the frequency counter to find the element with the highest frequency.\n"
      ],
      "metadata": {
        "id": "i9MeZjiP_Drq"
      }
    },
    {
      "cell_type": "code",
      "source": [
        "def most_frequent_element(nums):\n",
        "    if not nums:\n",
        "        return None  # Return None if the array is empty\n",
        "\n",
        "    frequency = {}\n",
        "\n",
        "    # Count frequencies\n",
        "    for num in nums:\n",
        "        if num in frequency:\n",
        "            frequency[num] += 1\n",
        "        else:\n",
        "            frequency[num] = 1\n",
        "\n",
        "    # Find the element with the maximum frequency\n",
        "    max_count = 0\n",
        "    most_frequent = None\n",
        "    for num, count in frequency.items():\n",
        "        if count > max_count:\n",
        "            max_count = count\n",
        "            most_frequent = num\n",
        "\n",
        "    return most_frequent\n",
        "\n",
        "\n",
        "nums = [1, 3, 2, 1, 4, 1, 5, 2, 2]\n",
        "print(most_frequent_element(nums))\n"
      ],
      "metadata": {
        "colab": {
          "base_uri": "https://localhost:8080/"
        },
        "id": "F8TcRCU-_Ftm",
        "outputId": "23ead45e-19de-4428-8dd1-bbc80fdc7ae6"
      },
      "execution_count": 1,
      "outputs": [
        {
          "output_type": "stream",
          "name": "stdout",
          "text": [
            "1\n"
          ]
        }
      ]
    },
    {
      "cell_type": "markdown",
      "source": [
        "#Complexity\n",
        "Time Complexity:O(n), where n is the number of elements in the array. This is because each element is processed once for counting and once for finding the maximum.\n",
        "\n",
        "Space Complexity: O(k), where k is the number of unique elements in the array. This space is used for storing the frequency counts."
      ],
      "metadata": {
        "id": "yYHim38gAJ5u"
      }
    },
    {
      "cell_type": "code",
      "source": [],
      "metadata": {
        "id": "QJuG6s7C_Fwu"
      },
      "execution_count": 2,
      "outputs": []
    },
    {
      "cell_type": "markdown",
      "source": [
        "#Problem 2 : We are given a list of n-1 integers and these integers are in the range of 1 to n . There are no duplicates in the list. One of the integers is missing in the list. Give an algorithm to find that element Ex: [1,2,4,6,3,7,8] 5 is the missing num.\n",
        "\n",
        "\n",
        "\n"
      ],
      "metadata": {
        "id": "6n9OxZy8Ainf"
      }
    },
    {
      "cell_type": "code",
      "source": [
        "def find_missing_number(nums):\n",
        "    n = len(nums) + 1  # Since we are given n-1 numbers, the actual value of n is len(nums) + 1\n",
        "\n",
        "    # Calculate the sum of the first n natural numbers\n",
        "    total_sum = n * (n + 1) // 2\n",
        "\n",
        "    # Calculate the sum of numbers present in the list\n",
        "    actual_sum = sum(nums)\n",
        "\n",
        "    # The missing number is the difference between the expected sum and the actual sum\n",
        "    missing_number = total_sum - actual_sum\n",
        "\n",
        "    return missing_number\n",
        "\n",
        "\n",
        "nums = [1, 2, 4, 6, 3, 7, 8]\n",
        "print(find_missing_number(nums))\n"
      ],
      "metadata": {
        "colab": {
          "base_uri": "https://localhost:8080/"
        },
        "id": "gM46yhAt_Fzu",
        "outputId": "901c8540-8995-48b0-e891-d67552906172"
      },
      "execution_count": 3,
      "outputs": [
        {
          "output_type": "stream",
          "name": "stdout",
          "text": [
            "5\n"
          ]
        }
      ]
    },
    {
      "cell_type": "markdown",
      "source": [
        "#Complexity\n",
        "\n",
        "Time Complexity: O(n), where n is the length of the list plus one. This is due to the summation operation.\n",
        "\n",
        "Space Complexity: O(1) as we are only using a few extra variables."
      ],
      "metadata": {
        "id": "Ioa9VCU-A5dJ"
      }
    },
    {
      "cell_type": "code",
      "source": [],
      "metadata": {
        "id": "XYXjY7hs_F2t"
      },
      "execution_count": null,
      "outputs": []
    },
    {
      "cell_type": "markdown",
      "source": [
        "#Problem 3 : Given an array of n positive numbers. All numbers occurs even number of times except 1 which occurs odd number of times. Find that number in O(n) time and O(1) space. Ex: [1,2,3,2,3,1,3]. 3 is repeats odd times.\n",
        "\n",
        "#Answer\n",
        "\n",
        "To find the number that occurs an odd number of times in an array where all other numbers occur an even number of times, you can use the XOR bitwise operation. This approach works in O(n) time and O(1) space.\n",
        "\n",
        "XOR Approach\n",
        "\n",
        "The XOR operation has the following properties:\n",
        "\n",
        ".)a⊕a=0 (any number XORed with itself is 0)\n",
        "\n",
        ".)a⊕0=a (any number XORed with 0 remains unchanged)\n",
        "\n",
        ".)XOR is both commutative and associative (the order of operations does not change the result)\n",
        "\n",
        "\n",
        "\n",
        "Using these properties, if you XOR all the numbers in the array, the numbers that occur an even number of times will cancel out (since a⊕a=0), and you will be left with the number that occurs an odd number of times.\n",
        "\n"
      ],
      "metadata": {
        "id": "I9Mq-V2oBLKn"
      }
    },
    {
      "cell_type": "code",
      "source": [
        "def find_odd_occurrence(nums):\n",
        "    result = 0\n",
        "    for num in nums:\n",
        "        result ^= num\n",
        "    return result\n",
        "\n",
        "\n",
        "nums = [1, 2, 3, 2, 3, 1, 3]\n",
        "print(find_odd_occurrence(nums))"
      ],
      "metadata": {
        "colab": {
          "base_uri": "https://localhost:8080/"
        },
        "id": "QmVW6mRK_F55",
        "outputId": "6b539950-0a5d-4633-a937-73824b532efb"
      },
      "execution_count": 4,
      "outputs": [
        {
          "output_type": "stream",
          "name": "stdout",
          "text": [
            "3\n"
          ]
        }
      ]
    },
    {
      "cell_type": "markdown",
      "source": [
        "#Complexity\n",
        "Time Complexity: O(n), where n is the number of elements in the array. Each element is processed once.\n",
        "\n",
        "Space Complexity: O(1) since no extra space is used beyond a few variables."
      ],
      "metadata": {
        "id": "-p9b9lR8B9nE"
      }
    },
    {
      "cell_type": "code",
      "source": [],
      "metadata": {
        "id": "tqNWfAdc_F8_"
      },
      "execution_count": null,
      "outputs": []
    },
    {
      "cell_type": "markdown",
      "source": [
        "#Problem 4 : Given an array of n elements. Find two elements in the array such that their sum is equal to given element K.\n",
        "\n",
        "#Answer\n",
        "Approach\n",
        "\n",
        "\n",
        "Use a Hash Set:\n",
        "Iterate through the array and for each element, check if the complement (i.e.,\n",
        "K−current element) is in the hash set.\n",
        "\n",
        "If it is, you've found the two elements that add up to\n",
        "K.\n",
        "If not, add the current element to the hash set and continue."
      ],
      "metadata": {
        "id": "CDU6bDnhCMak"
      }
    },
    {
      "cell_type": "code",
      "source": [
        "def find_pair_with_sum(nums, K):\n",
        "    seen = set()\n",
        "    for num in nums:\n",
        "        complement = K - num\n",
        "        if complement in seen:\n",
        "            return (complement, num)\n",
        "        seen.add(num)\n",
        "    return None  # Return None if no such pair is found\n",
        "\n",
        "nums = [1, 4, 5, 6, 7, 8]\n",
        "K = 10\n",
        "print(find_pair_with_sum(nums, K))\n"
      ],
      "metadata": {
        "colab": {
          "base_uri": "https://localhost:8080/"
        },
        "id": "n8uvVrGD_F_-",
        "outputId": "2fe38cee-31ee-468a-f369-b5f6d23ba00e"
      },
      "execution_count": 5,
      "outputs": [
        {
          "output_type": "stream",
          "name": "stdout",
          "text": [
            "(4, 6)\n"
          ]
        }
      ]
    },
    {
      "cell_type": "markdown",
      "source": [
        "#Complexity\n",
        "Time Complexity: O(n), where n is the number of elements in the array. Each element is processed once.\n",
        "\n",
        "Space Complexity: O(n) for storing elements in the hash set.\n"
      ],
      "metadata": {
        "id": "S2m0tLovC2kF"
      }
    },
    {
      "cell_type": "code",
      "source": [],
      "metadata": {
        "id": "K-LsvZKq_GDR"
      },
      "execution_count": null,
      "outputs": []
    },
    {
      "cell_type": "markdown",
      "source": [
        "#Problem 5 : Given an array of both positive and negative numbers, find two numbers such that their sum is closest to 0. Ex: [ 1 ,60 ,-10, 70, -80,85]. Ans : -80,85.\n",
        "\n",
        "#Answer\n",
        "Approach\n",
        "\n",
        "#Sort the Array:\n",
        "\n",
        "Sorting helps in efficiently finding the closest sum by allowing you to use a two-pointer technique.\n",
        "\n",
        "#Use Two Pointers:\n",
        "\n",
        "Initialize two pointers: one at the start (left) and one at the end (right) of the sorted array.\n",
        "\n",
        "Calculate the sum of the numbers at these two pointers and compare it with the closest sum found so far.\n",
        "\n",
        "#Adjust the pointers based on the sum:\n",
        "\n",
        "If the sum is less than zero, move the left pointer to the right to increase the sum.\n",
        "If the sum is greater than zero, move the right pointer to the left to decrease the sum.\n",
        "Continue this process until the two pointers meet"
      ],
      "metadata": {
        "id": "N15X_aYGDFaM"
      }
    },
    {
      "cell_type": "code",
      "source": [
        "def closest_to_zero(nums):\n",
        "    if len(nums) < 2:\n",
        "        return None  # Not enough elements to find a pair\n",
        "\n",
        "    nums.sort()  # Sort the array\n",
        "    left = 0\n",
        "    right = len(nums) - 1\n",
        "\n",
        "    closest_sum = float('inf')\n",
        "    closest_pair = (None, None)\n",
        "\n",
        "    while left < right:\n",
        "        current_sum = nums[left] + nums[right]\n",
        "\n",
        "        # Check if this is the closest sum found so far\n",
        "        if abs(current_sum) < abs(closest_sum):\n",
        "            closest_sum = current_sum\n",
        "            closest_pair = (nums[left], nums[right])\n",
        "\n",
        "        # Move the pointers\n",
        "        if current_sum < 0:\n",
        "            left += 1\n",
        "        elif current_sum > 0:\n",
        "            right -= 1\n",
        "        else:\n",
        "            # If the sum is exactly zero, we found the closest possible sum\n",
        "            break\n",
        "\n",
        "    return closest_pair\n",
        "\n",
        "\n",
        "nums = [1, 60, -10, 70, -80, 85]\n",
        "print(closest_to_zero(nums))\n"
      ],
      "metadata": {
        "colab": {
          "base_uri": "https://localhost:8080/"
        },
        "id": "jbkRrlaD_GGZ",
        "outputId": "478f24b2-7c49-4145-e1d9-8a1b1ad0188e"
      },
      "execution_count": 6,
      "outputs": [
        {
          "output_type": "stream",
          "name": "stdout",
          "text": [
            "(-80, 85)\n"
          ]
        }
      ]
    },
    {
      "cell_type": "markdown",
      "source": [
        "#Complexity\n",
        "Time Complexity:\n",
        "O(nlogn), where\n",
        "n is the number of elements in the array, due to the sorting step. The two-pointer scan takes\n",
        "O(n).\n",
        "\n",
        "Space Complexity:\n",
        "O(1) since only a few extra variables are used beyond the input array."
      ],
      "metadata": {
        "id": "JZfq975sDwCb"
      }
    },
    {
      "cell_type": "code",
      "source": [],
      "metadata": {
        "id": "e9e91jJ9_GJe"
      },
      "execution_count": null,
      "outputs": []
    },
    {
      "cell_type": "markdown",
      "source": [
        "#Problem 6 : Given an array of n elements . Find three elements such that their sum is equal to the given number.\n",
        "\n",
        "#Answer\n",
        "Approach\n",
        "#Sort the Array:\n",
        "\n",
        "Sorting the array helps in efficiently finding triplets by using a combination of one element and two-pointer approach.\n",
        "\n",
        "Iterate and Use Two Pointers:\n",
        "\n",
        "\n",
        "Iterate through the array, fixing one element, and then use the two-pointer technique to find two other elements that, together with the fixed element, sum up to the target.\n",
        "\n",
        "#Algorithm\n",
        "Sort the Array.\n",
        "\n",
        "Iterate through the Array:\n",
        "\n",
        "For each element at index i, treat it as the first element of the triplet.\n",
        "Use two pointers (left and right) to find the other two elements such that their sum, combined with the fixed element, equals the target sum."
      ],
      "metadata": {
        "id": "JuNdfrMvD3kz"
      }
    },
    {
      "cell_type": "code",
      "source": [
        "def three_sum(nums, target):\n",
        "    nums.sort()  # Sort the array\n",
        "    n = len(nums)\n",
        "    triplets = []\n",
        "\n",
        "    for i in range(n - 2):\n",
        "        if i > 0 and nums[i] == nums[i - 1]:\n",
        "            continue  # Skip duplicates\n",
        "\n",
        "        left = i + 1\n",
        "        right = n - 1\n",
        "\n",
        "        while left < right:\n",
        "            current_sum = nums[i] + nums[left] + nums[right]\n",
        "\n",
        "            if current_sum == target:\n",
        "                triplets.append((nums[i], nums[left], nums[right]))\n",
        "\n",
        "                # Skip duplicates for left and right\n",
        "                while left < right and nums[left] == nums[left + 1]:\n",
        "                    left += 1\n",
        "                while left < right and nums[right] == nums[right - 1]:\n",
        "                    right -= 1\n",
        "\n",
        "                left += 1\n",
        "                right -= 1\n",
        "            elif current_sum < target:\n",
        "                left += 1\n",
        "            else:\n",
        "                right -= 1\n",
        "\n",
        "    return triplets\n",
        "\n",
        "\n",
        "nums = [1, 2, -1, -2, 3, 0, 5]\n",
        "target = 3\n",
        "print(three_sum(nums, target))\n"
      ],
      "metadata": {
        "colab": {
          "base_uri": "https://localhost:8080/"
        },
        "id": "vxMP8dS-_GMl",
        "outputId": "d11201f2-7ba2-4a3c-94ea-c3bba4a48e77"
      },
      "execution_count": 7,
      "outputs": [
        {
          "output_type": "stream",
          "name": "stdout",
          "text": [
            "[(-2, 0, 5), (-2, 2, 3), (-1, 1, 3), (0, 1, 2)]\n"
          ]
        }
      ]
    },
    {
      "cell_type": "markdown",
      "source": [
        "#Complexity\n",
        "Time Complexity:\n",
        "O(n\n",
        "2\n",
        " ). The sorting step takes\n",
        "O(nlogn), and the two-pointer technique runs in\n",
        "O(n\n",
        "2\n",
        " ) in the worst case.\n",
        "\n",
        "Space Complexity:\n",
        "O(k), where\n",
        "k is the number of triplets found, due to storing the results."
      ],
      "metadata": {
        "id": "ukjo7KsyEYVa"
      }
    },
    {
      "cell_type": "code",
      "source": [],
      "metadata": {
        "id": "nVsO31f6_GPX"
      },
      "execution_count": null,
      "outputs": []
    },
    {
      "cell_type": "markdown",
      "source": [
        "#Problem 7 : Given an array of n elements . Find three elements i, j, k in the array such that i * i + j * j = k*k.\n",
        "\n",
        "#Answer\n"
      ],
      "metadata": {
        "id": "xHO2UAnXEoe0"
      }
    },
    {
      "cell_type": "code",
      "source": [
        "def find_pythagorean_triplet(nums):\n",
        "    # Create a set of squares of all elements\n",
        "    squares = set(x * x for x in nums)\n",
        "\n",
        "    n = len(nums)\n",
        "\n",
        "    # Check for each pair (i, j) if i^2 + j^2 = k^2\n",
        "    for i in range(n):\n",
        "        for j in range(i + 1, n):\n",
        "            sum_of_squares = nums[i] * nums[i] + nums[j] * nums[j]\n",
        "            if sum_of_squares in squares:\n",
        "                # Find k such that k^2 = sum_of_squares\n",
        "                k = int(sum_of_squares**0.5)\n",
        "                if k in nums:\n",
        "                    return (nums[i], nums[j], k)\n",
        "\n",
        "    return None  # Return None if no such triplet is found\n",
        "\n",
        "nums = [3, 4, 5, 6, 7, 8]\n",
        "print(find_pythagorean_triplet(nums))\n"
      ],
      "metadata": {
        "colab": {
          "base_uri": "https://localhost:8080/"
        },
        "id": "Chx6li5Z_GSt",
        "outputId": "4136b9e4-d5b4-4128-cc7e-d1eaf0e5edec"
      },
      "execution_count": 8,
      "outputs": [
        {
          "output_type": "stream",
          "name": "stdout",
          "text": [
            "(3, 4, 5)\n"
          ]
        }
      ]
    },
    {
      "cell_type": "markdown",
      "source": [
        "#Complexity\n",
        "Time Complexity:\n",
        "O(n\n",
        "2\n",
        " ). The nested loop runs in\n",
        "O(n\n",
        "2\n",
        " ), and checking membership in a set is\n",
        "O(1).\n",
        "\n",
        "Space Complexity:\n",
        "O(n) for storing the squares in the hash set."
      ],
      "metadata": {
        "id": "ivJ1TyV5E631"
      }
    },
    {
      "cell_type": "code",
      "source": [],
      "metadata": {
        "id": "CC2DL3OzE56B"
      },
      "execution_count": null,
      "outputs": []
    },
    {
      "cell_type": "markdown",
      "source": [
        "#Problem 8 : An element is a majority if it appears more than n/2 times. Give an algorithm takes an array of n element as argument and identifies a majority (if it exists).\n",
        "\n",
        "#Answer\n",
        "To find a majority element in an array (i.e., an element that appears more than\n",
        "n/2 times), you can use the Boyer-Moore Voting Algorithm. This algorithm efficiently finds a majority element in\n",
        "O(n) time and\n",
        "O(1) space.\n",
        "\n",
        "#Boyer-Moore Voting Algorithm Candidate Selection:\n",
        "\n",
        "Iterate through the array while maintaining a candidate for the majority element and a count. The idea is to use the count to track the potential majority element.\n",
        "Verification:\n",
        "\n",
        "After determining the candidate, perform a second pass to confirm whether it is indeed the majority element by counting its occurrences in the array."
      ],
      "metadata": {
        "id": "tA64iXB7FJ3Z"
      }
    },
    {
      "cell_type": "code",
      "source": [
        "def find_majority_element(nums):\n",
        "    # Phase 1: Find a candidate for majority element\n",
        "    candidate = None\n",
        "    count = 0\n",
        "\n",
        "    for num in nums:\n",
        "        if count == 0:\n",
        "            candidate = num\n",
        "        count += (1 if num == candidate else -1)\n",
        "\n",
        "    # Phase 2: Verify the candidate\n",
        "    if candidate is not None:\n",
        "        count = nums.count(candidate)\n",
        "        if count > len(nums) // 2:\n",
        "            return candidate\n",
        "\n",
        "    return None\n",
        "\n",
        "\n",
        "nums = [3, 3, 4, 2, 4, 4, 2, 4, 4]\n",
        "print(find_majority_element(nums))\n"
      ],
      "metadata": {
        "colab": {
          "base_uri": "https://localhost:8080/"
        },
        "id": "cRYo8BOuFg7k",
        "outputId": "5b058663-8da1-4170-cc0a-d94af6457e25"
      },
      "execution_count": 9,
      "outputs": [
        {
          "output_type": "stream",
          "name": "stdout",
          "text": [
            "4\n"
          ]
        }
      ]
    },
    {
      "cell_type": "code",
      "source": [],
      "metadata": {
        "id": "8KHBZHpQFp9w"
      },
      "execution_count": null,
      "outputs": []
    },
    {
      "cell_type": "markdown",
      "source": [
        "#Problem 9 : Given n × n matrix, and in each row all 1’s are followed by 0’s. Find the row with the maximum number of 0’s.\n",
        "\n",
        "#Answer\n",
        "To find the row with the maximum number of 0's in an\n",
        "n×n matrix where each row is sorted with all 1's followed by all 0's, you can use an efficient approach that takes advantage of the sorted nature of the rows.\n",
        "\n",
        "Approach\n",
        "\n",
        "1.Start from the Last Row:\n",
        "\n",
        "Begin with the last row of the matrix. Since rows are sorted, if you encounter 0's in the last row, you'll likely find more 0's as you move to the previous rows.\n",
        "\n",
        "2.Track the Count of 0's:\n",
        "\n",
        "Traverse the rows starting from the last row, and count the number of 0's by finding the first 0 in each row. This can be done efficiently using binary search because the rows are sorted.\n",
        "\n",
        "3.Keep Track of the Maximum:\n",
        "\n",
        "Maintain the row with the maximum count of 0's as you iterate through the matrix.\n"
      ],
      "metadata": {
        "id": "rk8YPs-5FrHk"
      }
    },
    {
      "cell_type": "code",
      "source": [
        "def find_row_with_max_zeros(matrix):\n",
        "    n = len(matrix)\n",
        "\n",
        "    # Initialize variables\n",
        "    max_zeros = -1\n",
        "    row_index = -1\n",
        "\n",
        "    # Start from the last row\n",
        "    for i in range(n):\n",
        "        row = matrix[i]\n",
        "        # Find the first occurrence of 0 using binary search\n",
        "        low, high = 0, n - 1\n",
        "        while low <= high:\n",
        "            mid = (low + high) // 2\n",
        "            if row[mid] == 0:\n",
        "                high = mid - 1\n",
        "            else:\n",
        "                low = mid + 1\n",
        "\n",
        "        # Count of 0's in the current row\n",
        "        count_zeros = n - low\n",
        "\n",
        "        # Update if this row has more 0's\n",
        "        if count_zeros > max_zeros:\n",
        "            max_zeros = count_zeros\n",
        "            row_index = i\n",
        "\n",
        "    return row_index\n",
        "\n",
        "\n",
        "matrix = [\n",
        "    [1, 1, 1, 1, 0, 0, 0],\n",
        "    [1, 1, 1, 0, 0, 0, 0],\n",
        "    [1, 1, 0, 0, 0, 0, 0],\n",
        "    [1, 0, 0, 0, 0, 0, 0],\n",
        "    [0, 0, 0, 0, 0, 0, 0]\n",
        "]\n",
        "print(find_row_with_max_zeros(matrix))\n"
      ],
      "metadata": {
        "id": "u3WDmVTxGOcb"
      },
      "execution_count": 9,
      "outputs": []
    },
    {
      "cell_type": "markdown",
      "source": [
        "#Complexity\n",
        "Time Complexity:\n",
        "O(nlogn) due to the binary search in each row.\n",
        "\n",
        "Space Complexity:\n",
        "O(1) as no additional space is used beyond a few variables."
      ],
      "metadata": {
        "id": "ofehnqxdGUdh"
      }
    },
    {
      "cell_type": "code",
      "source": [],
      "metadata": {
        "id": "Zl-3YOGAGTVB"
      },
      "execution_count": null,
      "outputs": []
    },
    {
      "cell_type": "markdown",
      "source": [
        "#Problem 10 : Sort an array of 0’s, 1’s and 2’s [or R’s, G’s and B’s]: Given an array A[] consisting of 0’s, 1’s and 2’s, give an algorithm for sorting A[].The algorithm should put all 0’s first, then all 1’s and finally all 2’s at the end. Example Input = {0,1,1,0,1,2,1,2,0,0,0,1}, Output = {0,0,0,0,0,1,1,1,1,1,2,2}\n",
        "\n",
        "#Answer\n",
        "To sort an array consisting of 0's, 1's, and 2's (or R's, G's, and B's) efficiently, you can use the Dutch National Flag Algorithm, which sorts the array in a single pass with a time complexity of\n",
        "O(n) and space complexity of\n",
        "O(1). This algorithm was proposed by Edsger W. Dijkstra.\n",
        "\n",
        "#Dutch National Flag Algorithm\n",
        "The idea is to maintain three pointers: low, mid, and high. These pointers help partition the array into three segments:\n",
        "\n",
        ".)Elements less than the middle value (0's or R's).\n",
        "\n",
        ".)Elements equal to the middle value (1's or G's).\n",
        "\n",
        ".)Elements greater than the middle value (2's or B's).\n",
        "Steps\n",
        "\n",
        "#Initialize Pointers:\n",
        "\n",
        ".)low is initialized to the start of the array.\n",
        "\n",
        ".)mid is also initialized to the start of the array.\n",
        "\n",
        ".)high is initialized to the end of the array.\n",
        "\n",
        "#Partition the Array:\n",
        "Traverse the array using the mid pointer.\n",
        "\n",
        ".)If A[mid] is 0 (or R), swap it with A[low], increment both low and mid.\n",
        "\n",
        ".)If A[mid] is 1 (or G), just move mid forward.\n",
        "\n",
        ".)If A[mid] is 2 (or B), swap it with A[high] and decrement high.\n",
        "Continue until mid surpasses high."
      ],
      "metadata": {
        "id": "pNhCMSf3GeIR"
      }
    },
    {
      "cell_type": "code",
      "source": [
        "def sort_colors(nums):\n",
        "    low, mid, high = 0, 0, len(nums) - 1\n",
        "\n",
        "    while mid <= high:\n",
        "        if nums[mid] == 0:\n",
        "            nums[low], nums[mid] = nums[mid], nums[low]\n",
        "            low += 1\n",
        "            mid += 1\n",
        "        elif nums[mid] == 1:\n",
        "            mid += 1\n",
        "        else:  # nums[mid] == 2\n",
        "            nums[high], nums[mid] = nums[mid], nums[high]\n",
        "            high -= 1\n",
        "\n",
        "\n",
        "nums = [0, 1, 1, 0, 1, 2, 1, 2, 0, 0, 0, 1]\n",
        "sort_colors(nums)\n",
        "print(nums)\n"
      ],
      "metadata": {
        "colab": {
          "base_uri": "https://localhost:8080/"
        },
        "id": "Ha1aAX4jHI5g",
        "outputId": "ffd0c583-c61b-4dca-f84f-2c948595d77a"
      },
      "execution_count": 10,
      "outputs": [
        {
          "output_type": "stream",
          "name": "stdout",
          "text": [
            "[0, 0, 0, 0, 0, 1, 1, 1, 1, 1, 2, 2]\n"
          ]
        }
      ]
    },
    {
      "cell_type": "markdown",
      "source": [],
      "metadata": {
        "id": "JC8fzvBNH7I6"
      }
    },
    {
      "cell_type": "markdown",
      "source": [
        "#Complexity\n",
        "Time Complexity:\n",
        "O(n), where\n",
        "n is the number of elements in the array. Each element is processed at most once.\n",
        "\n",
        "Space Complexity:\n",
        "O(1) as no extra space is used beyond a few variables."
      ],
      "metadata": {
        "id": "2j4GWaiSH7bO"
      }
    },
    {
      "cell_type": "code",
      "source": [],
      "metadata": {
        "id": "FfU4wvvOH3o-"
      },
      "execution_count": null,
      "outputs": []
    }
  ]
}